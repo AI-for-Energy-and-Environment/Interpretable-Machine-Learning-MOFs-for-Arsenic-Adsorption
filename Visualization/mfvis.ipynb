{
 "cells": [
  {
   "cell_type": "code",
   "execution_count": null,
   "metadata": {},
   "outputs": [],
   "source": [
    "import pandas as pd\n",
    "from rdkit import Chem\n",
    "from rdkit.Chem import Draw\n",
    "from rdkit.Chem import rdMolDescriptors\n",
    "from IPython.display import display"
   ]
  },
  {
   "cell_type": "code",
   "execution_count": null,
   "metadata": {},
   "outputs": [],
   "source": [
    "df = pd.read_csv('The_OLs_SMILES.csv')\n",
    "\n",
    "df_unique = df.drop_duplicates(subset='organ_smiles')\n",
    "\n",
    "df_unique.to_csv('The_checked_SMILES.csv', index=False)"
   ]
  },
  {
   "cell_type": "code",
   "execution_count": null,
   "metadata": {},
   "outputs": [],
   "source": [
    "df_unique.to_csv('The_checked_SMILES.csv', index=False) \n",
    "\n",
    "bits_to_visualize = {544, 6, 843, 235, 33, 128, 32, 378, 23, 72, 931, 52, 1, 694, 31, 202, 64, 875, 823, 155}  \n",
    "\n",
    "shown_bits = set()\n",
    "\n",
    "for index, row in df.iterrows():\n",
    "    mol = Chem.MolFromSmiles(row['organ_smiles'])  \n",
    "    if mol is None:\n",
    "        continue  \n",
    "\n",
    "    info = {}\n",
    "    fp = rdMolDescriptors.GetMorganFingerprintAsBitVect(mol, 2, nBits=1024, bitInfo=info)\n",
    "    \n",
    "    for bit in bits_to_visualize:\n",
    "        if bit in info and bit not in shown_bits:\n",
    "            img = Draw.DrawMorganBit(mol, bit, info)\n",
    "            display(img)  \n",
    "            print(f\"Bit: {bit}\")  \n",
    "            shown_bits.add(bit)  "
   ]
  }
 ],
 "metadata": {
  "kernelspec": {
   "display_name": "envpy38",
   "language": "python",
   "name": "python3"
  },
  "language_info": {
   "codemirror_mode": {
    "name": "ipython",
    "version": 3
   },
   "file_extension": ".py",
   "mimetype": "text/x-python",
   "name": "python",
   "nbconvert_exporter": "python",
   "pygments_lexer": "ipython3",
   "version": "3.8.16"
  }
 },
 "nbformat": 4,
 "nbformat_minor": 2
}
